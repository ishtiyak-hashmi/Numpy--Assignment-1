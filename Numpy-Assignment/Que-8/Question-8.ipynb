{
 "cells": [
  {
   "cell_type": "code",
   "execution_count": 1,
   "id": "139b43b2",
   "metadata": {},
   "outputs": [],
   "source": [
    "# Sort the numpy array:\n",
    "\n",
    "# arr = np.array([10,5,8,4,7,2,3,1])"
   ]
  },
  {
   "cell_type": "code",
   "execution_count": 3,
   "id": "025f3ee4",
   "metadata": {},
   "outputs": [
    {
     "name": "stdout",
     "output_type": "stream",
     "text": [
      "Sorted array:  [ 1  2  3  4  5  7  8 10]\n"
     ]
    }
   ],
   "source": [
    "import numpy as np\n",
    "arr = np.array([10,5,8,4,7,2,3,1])\n",
    "print(\"Sorted array: \",np.sort(arr))"
   ]
  }
 ],
 "metadata": {
  "kernelspec": {
   "display_name": "Python 3",
   "language": "python",
   "name": "python3"
  },
  "language_info": {
   "codemirror_mode": {
    "name": "ipython",
    "version": 3
   },
   "file_extension": ".py",
   "mimetype": "text/x-python",
   "name": "python",
   "nbconvert_exporter": "python",
   "pygments_lexer": "ipython3",
   "version": "3.8.8"
  }
 },
 "nbformat": 4,
 "nbformat_minor": 5
}
