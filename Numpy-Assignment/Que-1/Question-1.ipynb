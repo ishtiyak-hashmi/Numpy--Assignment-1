{
 "cells": [
  {
   "cell_type": "code",
   "execution_count": null,
   "id": "e8503deb",
   "metadata": {},
   "outputs": [],
   "source": [
    "#Use numpy to generate array of 25 random numbers sampled from a standard normal distribution"
   ]
  },
  {
   "cell_type": "code",
   "execution_count": 8,
   "id": "f9f4ad3d",
   "metadata": {},
   "outputs": [
    {
     "name": "stdout",
     "output_type": "stream",
     "text": [
      "Generate array of 25 random numbers sampled from a standard normal distribution\n"
     ]
    },
    {
     "data": {
      "text/plain": [
       "array([-1.76067815,  0.21986293,  1.12191089, -0.80209517, -0.12561937,\n",
       "        0.32876692,  0.66276619, -2.14464971, -1.0896444 ,  0.95979186,\n",
       "       -1.3830082 , -0.65414397,  0.14319593,  0.94644951, -1.97689108,\n",
       "       -0.54298454,  0.8564715 , -0.05083258,  0.31115569, -1.14283581,\n",
       "        0.59458118,  0.89428558,  0.5697848 ,  1.28357642, -0.28944407])"
      ]
     },
     "execution_count": 8,
     "metadata": {},
     "output_type": "execute_result"
    }
   ],
   "source": [
    "import numpy as np\n",
    "a_range=np.random.normal(0,1,25)\n",
    "print(\"Generate array of 25 random numbers sampled from a standard normal distribution\")\n",
    "a_range"
   ]
  }
 ],
 "metadata": {
  "kernelspec": {
   "display_name": "Python 3",
   "language": "python",
   "name": "python3"
  },
  "language_info": {
   "codemirror_mode": {
    "name": "ipython",
    "version": 3
   },
   "file_extension": ".py",
   "mimetype": "text/x-python",
   "name": "python",
   "nbconvert_exporter": "python",
   "pygments_lexer": "ipython3",
   "version": "3.8.8"
  }
 },
 "nbformat": 4,
 "nbformat_minor": 5
}
