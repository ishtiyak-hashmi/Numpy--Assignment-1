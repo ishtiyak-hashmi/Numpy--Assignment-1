{
 "cells": [
  {
   "cell_type": "markdown",
   "id": "dd2b5e4b",
   "metadata": {},
   "source": [
    "# Find Dot product of two arrays\n",
    "\n",
    "f = np.array([1,2])\n",
    "\n",
    "g = np.array([4,5])"
   ]
  },
  {
   "cell_type": "code",
   "execution_count": 1,
   "id": "36c3d503",
   "metadata": {},
   "outputs": [],
   "source": [
    "# Find Dot product of two arrays: f = np.array([1,2])g = np.array([4,5])"
   ]
  },
  {
   "cell_type": "code",
   "execution_count": 12,
   "id": "9e63bb6a",
   "metadata": {},
   "outputs": [
    {
     "name": "stdout",
     "output_type": "stream",
     "text": [
      "[1 2]\n",
      "[4 5]\n",
      "The Dot Product is:  14\n"
     ]
    }
   ],
   "source": [
    "import numpy as np\n",
    "f = np.array([1,2]) \n",
    "g = np.array([4,5])\n",
    "print(f)\n",
    "print(g)\n",
    "a=np.dot(f,g)\n",
    "print(\"The Dot Product is: \",a)"
   ]
  },
  {
   "cell_type": "code",
   "execution_count": 8,
   "id": "7b669c32",
   "metadata": {},
   "outputs": [
    {
     "data": {
      "text/plain": [
       "14"
      ]
     },
     "execution_count": 8,
     "metadata": {},
     "output_type": "execute_result"
    }
   ],
   "source": []
  },
  {
   "cell_type": "code",
   "execution_count": null,
   "id": "f26420f3",
   "metadata": {},
   "outputs": [],
   "source": []
  }
 ],
 "metadata": {
  "kernelspec": {
   "display_name": "Python 3",
   "language": "python",
   "name": "python3"
  },
  "language_info": {
   "codemirror_mode": {
    "name": "ipython",
    "version": 3
   },
   "file_extension": ".py",
   "mimetype": "text/x-python",
   "name": "python",
   "nbconvert_exporter": "python",
   "pygments_lexer": "ipython3",
   "version": "3.8.8"
  }
 },
 "nbformat": 4,
 "nbformat_minor": 5
}
