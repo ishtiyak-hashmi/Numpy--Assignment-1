{
 "cells": [
  {
   "cell_type": "markdown",
   "id": "ac43db6b",
   "metadata": {},
   "source": [
    "# Create a random vector of size 30 and find the mean value."
   ]
  },
  {
   "cell_type": "code",
   "execution_count": 12,
   "id": "54626f67",
   "metadata": {},
   "outputs": [
    {
     "name": "stdout",
     "output_type": "stream",
     "text": [
      "The mean of a is:  487.55\n"
     ]
    }
   ],
   "source": [
    "import numpy as np\n",
    "from numpy import random\n",
    "a = random.randint(1000,size=(10,10))\n",
    "b=a.mean()\n",
    "print(\"The mean of a is: \",b)"
   ]
  },
  {
   "cell_type": "code",
   "execution_count": null,
   "id": "2f254dc7",
   "metadata": {},
   "outputs": [],
   "source": []
  }
 ],
 "metadata": {
  "kernelspec": {
   "display_name": "Python 3",
   "language": "python",
   "name": "python3"
  },
  "language_info": {
   "codemirror_mode": {
    "name": "ipython",
    "version": 3
   },
   "file_extension": ".py",
   "mimetype": "text/x-python",
   "name": "python",
   "nbconvert_exporter": "python",
   "pygments_lexer": "ipython3",
   "version": "3.8.8"
  }
 },
 "nbformat": 4,
 "nbformat_minor": 5
}
