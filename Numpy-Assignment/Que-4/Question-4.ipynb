{
 "cells": [
  {
   "cell_type": "code",
   "execution_count": 1,
   "id": "464f1dbb",
   "metadata": {},
   "outputs": [],
   "source": [
    "# Create a 10x10 array with random values and find the minimum and maximum values."
   ]
  },
  {
   "cell_type": "code",
   "execution_count": 25,
   "id": "daa0e5c5",
   "metadata": {
    "scrolled": true
   },
   "outputs": [
    {
     "name": "stdout",
     "output_type": "stream",
     "text": [
      "The orignal array: \n",
      "[[450 689 337  90 385 650 962 102 796 331]\n",
      " [947 755 581 114 902 820 663 793  68 867]\n",
      " [ 24 970 369 847 746 978  11  30  56 672]\n",
      " [534  90 106 160 212 334 165 513 519 156]\n",
      " [810 550 746 267 602 371 918  79 640  97]\n",
      " [265 951 123 947 494 841 529 567 220 674]\n",
      " [607  79 169 758 191 366 534 109 991 392]\n",
      " [260 184 733 617 476 674 301 214 578 437]\n",
      " [333 330 524 644 642 129 664 711 724 203]\n",
      " [503 702 571 954 298 497 804 781 340 357]]\n",
      "Minimum Value : 11\n",
      "\n",
      "Maximum Value:  991\n"
     ]
    }
   ],
   "source": [
    "import numpy as np\n",
    "a = random.randint(1000,size=(10,10))\n",
    "print(\"The orignal array: \")\n",
    "print(a)\n",
    "amin,amax=a.min(),a.max()\n",
    "print(\"Minimum Value :\",amin)\n",
    "print()\n",
    "print(\"Maximum Value: \",amax)"
   ]
  }
 ],
 "metadata": {
  "kernelspec": {
   "display_name": "Python 3",
   "language": "python",
   "name": "python3"
  },
  "language_info": {
   "codemirror_mode": {
    "name": "ipython",
    "version": 3
   },
   "file_extension": ".py",
   "mimetype": "text/x-python",
   "name": "python",
   "nbconvert_exporter": "python",
   "pygments_lexer": "ipython3",
   "version": "3.8.8"
  }
 },
 "nbformat": 4,
 "nbformat_minor": 5
}
